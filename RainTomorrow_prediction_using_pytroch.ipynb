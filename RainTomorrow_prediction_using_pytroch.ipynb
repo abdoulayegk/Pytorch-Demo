{
  "nbformat": 4,
  "nbformat_minor": 0,
  "metadata": {
    "colab": {
      "name": "RainTomorrow prediction using pytroch.ipynb",
      "private_outputs": true,
      "provenance": []
    },
    "kernelspec": {
      "name": "python3",
      "display_name": "Python 3"
    },
    "language_info": {
      "name": "python"
    },
    "accelerator": "GPU"
  },
  "cells": [
    {
      "cell_type": "markdown",
      "metadata": {
        "id": "dLxhmXgsf2Bk"
      },
      "source": [
        "**In this Notebook we are going to train a neural network using pytorch**. we will be going through the following steps:\n",
        "1. Preprocess CSV files and convert the data to Tensors\n",
        "2. Build your own Neural Network model with PyTorch\n",
        "3. Use a loss function and an optimizer to train your model\n",
        "4. Evaluate your model and learn about the perils of imbalanced classification"
      ]
    },
    {
      "cell_type": "markdown",
      "metadata": {
        "id": "u4778pe5g167"
      },
      "source": [
        "**Data**\n",
        "Our dataset contains daily weather information from multiple Australian weather stations. We’re about to answer a simple question. Will it rain tomorrow?\n",
        "\n",
        "The data is hosted on [kaggle](https://www.kaggle.com/jsphyg/weather-dataset-rattle-package) and created by Joe Young. I’ve uploaded the dataset to Google Drive. Let’s get it:"
      ]
    },
    {
      "cell_type": "markdown",
      "metadata": {
        "id": "IP1kUms7hKLt"
      },
      "source": [
        "## Importing libraries"
      ]
    },
    {
      "cell_type": "code",
      "metadata": {
        "id": "t6uLflYE_8S7"
      },
      "source": [
        "import pandas as pd\n",
        "import matplotlib.pyplot as plt\n",
        "import seaborn as sns\n",
        "import numpy as np\n",
        "import torch\n",
        "import torch.nn as nn\n",
        "from torch import optim\n",
        "import torch.nn.functional as F\n",
        "from tqdm import tqdm\n",
        "from sklearn.model_selection import train_test_split\n",
        "from sklearn.metrics import confusion_matrix, classification_report\n",
        "RANDOM_SEED = 42\n",
        "\n",
        "np.random.seed(RANDOM_SEED)\n",
        "\n",
        "torch.manual_seed(RANDOM_SEED)"
      ],
      "execution_count": null,
      "outputs": []
    },
    {
      "cell_type": "markdown",
      "metadata": {
        "id": "94vjkr4zhTr7"
      },
      "source": [
        "Bellow is the way to load your dataset from your computer to google colab and also how to read the loaded dataset with pandas."
      ]
    },
    {
      "cell_type": "code",
      "metadata": {
        "id": "Clw6N8UMBOBK"
      },
      "source": [
        "# Uncomment the following 2 lines if you are using google colab\n",
        "# from google.colab import files\n",
        "\n",
        "\n",
        "# uploaded = files.upload()\n"
      ],
      "execution_count": null,
      "outputs": []
    },
    {
      "cell_type": "code",
      "metadata": {
        "id": "2RoVMTXABTyq"
      },
      "source": [
        "\n",
        "import io\n",
        "\n",
        "df = pd.read_csv(io.BytesIO(uploaded['weatherAUS.csv']))\n",
        "df.head()"
      ],
      "execution_count": null,
      "outputs": []
    },
    {
      "cell_type": "markdown",
      "metadata": {
        "id": "wvF1IYXKh3wq"
      },
      "source": [
        "we want to see if there are missing values on the dataset we will be using isna function from pandas and the sum to get the sum of missing values of each rows"
      ]
    },
    {
      "cell_type": "code",
      "metadata": {
        "id": "fgNWjsK7C8nR"
      },
      "source": [
        "df.isna().sum()"
      ],
      "execution_count": null,
      "outputs": []
    },
    {
      "cell_type": "code",
      "metadata": {
        "id": "ygcea2l9jJC_"
      },
      "source": [
        "# Check if there any missing values in train set\n",
        "ax = df.isna().sum().sort_values().plot(kind = 'barh', figsize = (9, 10))\n",
        "plt.title('Percentage of Missing Values Per Column in Train Set', fontdict={'size':15})\n",
        "for p in ax.patches:\n",
        "    percentage ='{:,.0f}%'.format((p.get_width()/df.shape[0])*100)\n",
        "    width, height =p.get_width(),p.get_height()\n",
        "    x=p.get_x()+width+0.02\n",
        "    y=p.get_y()+height/2\n",
        "    ax.annotate(percentage,(x,y))"
      ],
      "execution_count": null,
      "outputs": []
    },
    {
      "cell_type": "markdown",
      "metadata": {
        "id": "3FC8eCScjA7n"
      },
      "source": [
        "Let just have a look at the percentage of missing values for each features"
      ]
    },
    {
      "cell_type": "code",
      "metadata": {
        "id": "cjwt2xrvDFrs"
      },
      "source": [
        "df.info()"
      ],
      "execution_count": null,
      "outputs": []
    },
    {
      "cell_type": "markdown",
      "metadata": {
        "id": "w8GXTUOijXcz"
      },
      "source": [
        "Distribution of the target variable"
      ]
    },
    {
      "cell_type": "code",
      "metadata": {
        "id": "a_tH-e9KDIit"
      },
      "source": [
        "df.RainTomorrow.value_counts().plot(kind='bar')"
      ],
      "execution_count": null,
      "outputs": []
    },
    {
      "cell_type": "markdown",
      "metadata": {
        "id": "JPR0AJN1jqQv"
      },
      "source": [
        "For the purpose of this demo we are going to drop each row with missing values\n",
        "**Note**: This is not the best way you have to handle missing values where the percentage of missing values is less than 80% "
      ]
    },
    {
      "cell_type": "code",
      "metadata": {
        "id": "Q4Ti-2rnDc4y"
      },
      "source": [
        "df = df.dropna(how='any')\n",
        "df.isna().sum()"
      ],
      "execution_count": null,
      "outputs": []
    },
    {
      "cell_type": "code",
      "metadata": {
        "id": "85neGN5pFG9J"
      },
      "source": [
        "df.shape"
      ],
      "execution_count": null,
      "outputs": []
    },
    {
      "cell_type": "markdown",
      "metadata": {
        "id": "xSnIieS5k0tA"
      },
      "source": [
        "As we can see after droping missing values we lost a lot of data after looking at the shape of the data we can notice that."
      ]
    },
    {
      "cell_type": "markdown",
      "metadata": {
        "id": "HnIYnQ_vlF7N"
      },
      "source": [
        "I want **encode** all my categorical features but here I have my target which is **RainTomorrow** that contain 2 classes so we are removing it temporary from our original data we will add it after encoding all categorical features. \n",
        "I am think of renaming the ***RainTomorrow*** to ***Target***"
      ]
    },
    {
      "cell_type": "code",
      "metadata": {
        "id": "dJOkb3S5Gd41"
      },
      "source": [
        "train = df.drop('RainTomorrow',1)"
      ],
      "execution_count": null,
      "outputs": []
    },
    {
      "cell_type": "code",
      "metadata": {
        "id": "3gtKuOC5FS3Q"
      },
      "source": [
        "\n",
        "\n",
        "train = pd.get_dummies(train)\n",
        "train.head()"
      ],
      "execution_count": null,
      "outputs": []
    },
    {
      "cell_type": "markdown",
      "metadata": {
        "id": "3Hd8yHtol6h-"
      },
      "source": [
        "we have used get_dummies and we didn't use drop first so it will add so extra featrues to our dataset. That is the reason why I removed the Target. For exemple if we 2 classes A and B then it will add features_A and featrues_B in our dataset which  I didn't want for my target."
      ]
    },
    {
      "cell_type": "code",
      "metadata": {
        "id": "q-Mjqkh2Fp5A"
      },
      "source": [
        "df.shape"
      ],
      "execution_count": null,
      "outputs": []
    },
    {
      "cell_type": "markdown",
      "metadata": {
        "id": "LWhQzBs1pioZ"
      },
      "source": [
        "we are going to encode our target using the label encoder from sklearn. To learn more about  label encoder click [Label Encoder](https://scikit-learn.org/stable/modules/generated/sklearn.preprocessing.LabelEncoder.html)"
      ]
    },
    {
      "cell_type": "code",
      "metadata": {
        "id": "ptxYzfEzFwg6"
      },
      "source": [
        "from sklearn.preprocessing import LabelEncoder"
      ],
      "execution_count": null,
      "outputs": []
    },
    {
      "cell_type": "code",
      "metadata": {
        "id": "Ucpz6q9oHJh8"
      },
      "source": [
        "train['Target'] = df.RainTomorrow"
      ],
      "execution_count": null,
      "outputs": []
    },
    {
      "cell_type": "code",
      "metadata": {
        "id": "GTcQxbfGHURd"
      },
      "source": [
        "encoder = LabelEncoder()\n",
        "train.Target = encoder.fit_transform(train.Target)\n",
        "train.Target.value_counts()"
      ],
      "execution_count": null,
      "outputs": []
    },
    {
      "cell_type": "code",
      "metadata": {
        "id": "By3vZshlrsht"
      },
      "source": [
        "train.Target.value_counts().plot(kind='bar')"
      ],
      "execution_count": null,
      "outputs": []
    },
    {
      "cell_type": "markdown",
      "metadata": {
        "id": "c32ENWScr5Hu"
      },
      "source": [
        "Things are not looking good. About 78% of the data points have a non-rainy day for tomorrow. This means that a model that predicts there will be no rain tomorrow will be correct about 78% of the time.\n",
        "This concept is known as **unbalanced** data but we are not going to handle it right now."
      ]
    },
    {
      "cell_type": "markdown",
      "metadata": {
        "id": "qwCM_4u8rA5E"
      },
      "source": [
        "Now we select our features and the target for the model.\n",
        "1. X is an nd arrays in this case features\n",
        "2. y is a 1d array target"
      ]
    },
    {
      "cell_type": "code",
      "metadata": {
        "id": "UyBOF3WmHWN9"
      },
      "source": [
        "X = train.drop('Target',1).values\n",
        "y = train.Target.values"
      ],
      "execution_count": null,
      "outputs": []
    },
    {
      "cell_type": "markdown",
      "metadata": {
        "id": "o0SVruUHuems"
      },
      "source": [
        "We want to now split the data into train and test set so for that we are going to use train_test_split from **sklearn**"
      ]
    },
    {
      "cell_type": "code",
      "metadata": {
        "id": "GaHploNzIH7j"
      },
      "source": [
        "X_train,X_test, y_train, y_test = train_test_split(X,y, test_size=.2, random_state=RANDOM_SEED)"
      ],
      "execution_count": null,
      "outputs": []
    },
    {
      "cell_type": "code",
      "metadata": {
        "id": "P-tww9NlIWpf"
      },
      "source": [
        "X_train.shape , y_train.shape"
      ],
      "execution_count": null,
      "outputs": []
    },
    {
      "cell_type": "markdown",
      "metadata": {
        "id": "HXn447eW1ulY"
      },
      "source": [
        "We need to Standarize our data to put it to the same scale we will be using **StandardScaler** form sklearn this is what the standardscaler is doing:\n",
        "Standardize features by removing the mean and scaling to unit variance\n",
        "\n",
        "The standard score of a sample x is calculated as:\n",
        "\n",
        "    z = (x - u) / s\n",
        "\n",
        "learn more about standardscaler here:[Standard Scaler](https://scikit-learn.org/stable/modules/generated/sklearn.preprocessing.StandardScaler.html)"
      ]
    },
    {
      "cell_type": "code",
      "metadata": {
        "id": "HbnJ-BX_UpSd"
      },
      "source": [
        "from sklearn.preprocessing import StandardScaler\n",
        "scaler = StandardScaler()\n",
        "\n",
        "X_train = scaler.fit_transform(X_train)\n",
        "X_test = scaler.fit_transform(X_test)"
      ],
      "execution_count": null,
      "outputs": []
    },
    {
      "cell_type": "markdown",
      "metadata": {
        "id": "bFB76Hx02d8w"
      },
      "source": [
        "As we are going to use **pytorch** we have to convert our numpy array to a Tensor for this we are going to use the **torch.Tensor**\n",
        "[pytorch documentation](https://pytorch.org/docs/stable/tensors.html)"
      ]
    },
    {
      "cell_type": "code",
      "metadata": {
        "id": "aMS8QjnDIlFe"
      },
      "source": [
        "X_train = torch.Tensor(X_train)\n",
        "X_test = torch.Tensor(X_test)\n",
        "y_train = torch.Tensor(y_train)\n",
        "y_test = torch.Tensor(y_test)"
      ],
      "execution_count": null,
      "outputs": []
    },
    {
      "cell_type": "code",
      "metadata": {
        "id": "4vujT1BCJB4g"
      },
      "source": [
        "print(X_train.shape, y_train.shape)\n",
        "\n",
        "print(X_test.shape, y_test.shape)"
      ],
      "execution_count": null,
      "outputs": []
    },
    {
      "cell_type": "markdown",
      "metadata": {
        "id": "11W2_lBT5HeK"
      },
      "source": [
        "## Building neural network\n",
        "We’ll build a simple Neural Network (NN) that tries to predicts if it will rain tomorrow or not.<br>\n",
        "The output will be binary meaning 0 or 1. <br>\n",
        "One easy way to build the NN with PyTorch is to create a class that inherits **from torch.nn.Module**"
      ]
    },
    {
      "cell_type": "markdown",
      "metadata": {
        "id": "Q11MWCUuJi7a"
      },
      "source": [
        "![image.png](data:image/png;base64,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)"
      ]
    },
    {
      "cell_type": "code",
      "metadata": {
        "id": "uhfrQ0M7JSPQ"
      },
      "source": [
        "n_samples, n_features = X_train.shape\n",
        "n_features"
      ],
      "execution_count": null,
      "outputs": []
    },
    {
      "cell_type": "markdown",
      "metadata": {
        "id": "lRdBveQR659c"
      },
      "source": [
        "For building the model we will be using the following activation functions: <br> \n",
        "1. Relu: Formula ReLU(x)=max(0,x)\n",
        "2. Sigmoid: Sigmoid(x)=1+exp(−x)1​\n",
        "\n",
        "Read more about these activation fucntion from the documentations <br>\n",
        "1. [Relu](https://pytorch.org/docs/stable/generated/torch.nn.ReLU.html)\n",
        "2. [Sigmoid](https://pytorch.org/docs/stable/generated/torch.sigmoid.html)"
      ]
    },
    {
      "cell_type": "code",
      "metadata": {
        "id": "CuaSSE60MjUQ"
      },
      "source": [
        "class Net(nn.Module):\n",
        "\n",
        "  def __init__(self, n_features):\n",
        "\n",
        "    super(Net, self).__init__()\n",
        "\n",
        "    self.fc1 = nn.Linear(n_features, 5)\n",
        "\n",
        "    self.fc2 = nn.Linear(5, 3)\n",
        "\n",
        "    self.fc3 = nn.Linear(3, 1)\n",
        "\n",
        "  def forward(self, x):\n",
        "\n",
        "    x = F.relu(self.fc1(x))\n",
        "\n",
        "    x = F.relu(self.fc2(x))\n",
        "\n",
        "    x = torch.sigmoid(self.fc3(x))\n",
        "    return x\n",
        "\n",
        "net = Net(X_train.shape[1])\n"
      ],
      "execution_count": null,
      "outputs": []
    },
    {
      "cell_type": "markdown",
      "metadata": {
        "id": "RLlI0Ch36DAS"
      },
      "source": [
        "Training the model we are going to use Binary cross-entropy loss <br>\n",
        "Creates a criterion that measures the Binary Cross Entropy between the target and the output in this case read more about it [BCELoss](https://pytorch.org/docs/stable/generated/torch.nn.BCELoss.html)"
      ]
    },
    {
      "cell_type": "code",
      "metadata": {
        "id": "KuKO8nG1QIKM"
      },
      "source": [
        "criterion = nn.BCELoss()"
      ],
      "execution_count": null,
      "outputs": []
    },
    {
      "cell_type": "markdown",
      "metadata": {
        "id": "OGr3VWbh89q4"
      },
      "source": [
        "For the optimizer we are going to use Adam optimizer. <br>\n",
        "Read more about [Adam](https://pytorch.org/docs/stable/generated/torch.optim.Adam.html)"
      ]
    },
    {
      "cell_type": "code",
      "metadata": {
        "id": "Ap010gAnQULg"
      },
      "source": [
        "optimizer = optim.Adam(net.parameters(), lr=0.001)"
      ],
      "execution_count": null,
      "outputs": []
    },
    {
      "cell_type": "markdown",
      "metadata": {
        "id": "721NLnfP9uWd"
      },
      "source": [
        "As google colab provod GPU we are going to do it on GPU in this case"
      ]
    },
    {
      "cell_type": "code",
      "metadata": {
        "id": "ScfimQmLQX0Q"
      },
      "source": [
        "device = torch.device(\"cuda:0\" if torch.cuda.is_available() else \"cpu\")\n",
        "\n",
        "X_train = X_train.to(device)\n",
        "\n",
        "y_train = y_train.to(device)\n",
        "\n",
        "X_test = X_test.to(device)\n",
        "\n",
        "y_test = y_test.to(device)\n",
        "\n",
        "net = net.to(device)\n",
        "\n",
        "criterion = criterion.to(device)"
      ],
      "execution_count": null,
      "outputs": []
    },
    {
      "cell_type": "markdown",
      "metadata": {
        "id": "3Fy6Rv8A-Cd6"
      },
      "source": [
        "This function is to calculate the accuracy of our model when we are training the model"
      ]
    },
    {
      "cell_type": "code",
      "metadata": {
        "id": "lw-ElNg_TJmk"
      },
      "source": [
        "def calculate_accuracy(y_true, y_pred):\n",
        "\n",
        "  predicted = y_pred.ge(.5).view(-1)\n",
        "\n",
        "  return (y_true == predicted).sum().float() / len(y_true)"
      ],
      "execution_count": null,
      "outputs": []
    },
    {
      "cell_type": "code",
      "metadata": {
        "id": "cIYzhYYTTnre"
      },
      "source": [
        "def round_tensor(t, decimal_places=3):\n",
        "\n",
        "  return round(t.item(), decimal_places)\n",
        "\n",
        "for epoch in range(1000):\n",
        "\n",
        "    y_pred = net(X_train)\n",
        "\n",
        "    y_pred = torch.squeeze(y_pred)\n",
        "\n",
        "    train_loss = criterion(y_pred, y_train)\n",
        "\n",
        "    if epoch % 100 == 0:\n",
        "\n",
        "      train_acc = calculate_accuracy(y_train, y_pred)\n",
        "\n",
        "      y_test_pred = net(X_test)\n",
        "\n",
        "      y_test_pred = torch.squeeze(y_test_pred)\n",
        "\n",
        "      test_loss = criterion(y_test_pred, y_test)\n",
        "\n",
        "      test_acc = calculate_accuracy(y_test, y_test_pred)\n",
        "\n",
        "      print(\n",
        "\n",
        "f'''epoch {epoch}\n",
        "\n",
        "Train set - loss: {round_tensor(train_loss)}, accuracy: {round_tensor(train_acc)}\n",
        "\n",
        "Test  set - loss: {round_tensor(test_loss)}, accuracy: {round_tensor(test_acc)}\n",
        "\n",
        "''')\n",
        "\n",
        "    optimizer.zero_grad()\n",
        "\n",
        "    train_loss.backward()\n",
        "\n",
        "    optimizer.step()"
      ],
      "execution_count": null,
      "outputs": []
    },
    {
      "cell_type": "code",
      "metadata": {
        "id": "oQQf0qfxTy3D"
      },
      "source": [
        "classes = ['No rain', 'Raining']\n",
        "\n",
        "y_pred = net(X_test)\n",
        "\n",
        "y_pred = y_pred.ge(.5).view(-1).cpu()\n",
        "\n",
        "y_test = y_test.cpu()\n",
        "\n",
        "print(classification_report(y_test, y_pred, target_names=classes))"
      ],
      "execution_count": null,
      "outputs": []
    },
    {
      "cell_type": "code",
      "metadata": {
        "id": "DFiUznXQUDMo"
      },
      "source": [
        ""
      ],
      "execution_count": null,
      "outputs": []
    }
  ]
}